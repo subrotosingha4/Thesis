{
 "cells": [
  {
   "cell_type": "code",
   "execution_count": 1,
   "metadata": {},
   "outputs": [],
   "source": [
    "import glob\n",
    "import pickle\n",
    "import matplotlib.pyplot as plt\n",
    "from matplotlib.pyplot import figure\n",
    "import os.path\n",
    "from datetime import datetime"
   ]
  },
  {
   "cell_type": "code",
   "execution_count": 2,
   "metadata": {},
   "outputs": [
    {
     "name": "stdout",
     "output_type": "stream",
     "text": [
      "notebook-for-combined-deep-learning-histogram-20210614-0209\n"
     ]
    }
   ],
   "source": [
    "# save the results and preliminary figures in the following cells\n",
    "\n",
    "# create base save file name for this file, use datetime to keep a unique file name\n",
    "now = datetime.now()\n",
    "date_time = now.strftime('%Y%m%d-%H%M')\n",
    "result_file_basename = 'notebook-for-combined-deep-learning-histogram-' + date_time\n",
    "print(result_file_basename)"
   ]
  },
  {
   "cell_type": "code",
   "execution_count": 3,
   "metadata": {},
   "outputs": [
    {
     "data": {
      "image/png": "[encoded data removed]",
      "text/plain": [
       "<Figure size 864x576 with 1 Axes>"
      ]
     },
     "metadata": {
      "needs_background": "light"
     },
     "output_type": "display_data"
    }
   ],
   "source": [
    "#all pkl files are combined\n",
    "all_files = glob.glob('../DeepLearningResults/*.pkl')\n",
    "\n",
    "\n",
    "#loop to iterate\n",
    "for curr_file in all_files:\n",
    "    with open(curr_file, 'rb') as f:\n",
    "        mydata=pickle.load(f)\n",
    "    \n",
    "        \n",
    "\n",
    "# A quick histogram of this search auc-roc scores.  Basically the figure 1 from the paper.\n",
    "plt.figure(figsize=(12,8))\n",
    "\n",
    "import numpy as np\n",
    "#plotting histogram for mean_test_roc_auc\n",
    "plt.hist(mydata.mean_test_roc_auc,\n",
    "         bins=15,\n",
    "         color='lightblue',\n",
    "         rwidth=0.9)\n",
    "plt.xlabel('Area under the receiver operating characteristic (AUC-ROC)');\n",
    "plt.ylabel('Number of models');\n",
    "plt.title('Deep Learning (DL) Based Experiment: ');\n",
    "#plt.yticks(range(0,80,10))\n",
    "#plt.yscale(\"log\")\n",
    "#axes = plt.gca()\n",
    "#axes.set_xlim([xmin,xmax])\n",
    "#axes.set_ylim([0,55])\n",
    "\n",
    "result_dir = '../figures'\n",
    "result_file_name = result_file_basename + '.eps'\n",
    "result_file_path = os.path.join(result_dir, result_file_name)\n",
    "plt.savefig(result_file_path)"
   ]
  },
  {
   "cell_type": "code",
   "execution_count": 4,
   "metadata": {},
   "outputs": [
    {
     "data": {
      "text/plain": [
       "\"import seaborn as sns\\nsns.histplot(data=mydata.mean_test_roc_auc,bins=20,color='lightblue')\""
      ]
     },
     "execution_count": 4,
     "metadata": {},
     "output_type": "execute_result"
    }
   ],
   "source": [
    "\"\"\"import seaborn as sns\n",
    "sns.histplot(data=mydata.mean_test_roc_auc,bins=20,color='lightblue')\"\"\""
   ]
  },
  {
   "cell_type": "code",
   "execution_count": null,
   "metadata": {},
   "outputs": [],
   "source": []
  }
 ],
 "metadata": {
  "kernelspec": {
   "display_name": "Python 3",
   "language": "python",
   "name": "python3"
  },
  "language_info": {
   "codemirror_mode": {
    "name": "ipython",
    "version": 3
   },
   "file_extension": ".py",
   "mimetype": "text/x-python",
   "name": "python",
   "nbconvert_exporter": "python",
   "pygments_lexer": "ipython3",
   "version": "3.8.5"
  }
 },
 "nbformat": 4,
 "nbformat_minor": 4
}
