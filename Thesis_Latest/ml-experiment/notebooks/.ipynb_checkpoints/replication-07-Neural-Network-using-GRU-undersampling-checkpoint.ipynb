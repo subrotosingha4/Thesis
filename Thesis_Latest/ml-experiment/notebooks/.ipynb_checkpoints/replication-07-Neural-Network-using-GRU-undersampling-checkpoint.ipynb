{
 "cells": [
  {
   "cell_type": "markdown",
   "metadata": {},
   "source": [
    "- mean_test_auc_roc using Logistic Regression:\n",
    "- mean_test_auc_roc using KNN:0.631033\n",
    "- mean_test_auc_roc using SVM:0.658805\n",
    "- mean_test_auc_roc using Random Forest:0.657398\n",
    "- mean_test_auc_roc using Decision Tree:0.640888\n",
    "- mean_test_auc_roc using **Naive Bayes:0.659468**\n",
    "- mean_test_auc_roc using Neural Network(Adam):0.634302\n",
    "- mean_test_auc_roc using Neural Network(SGD):0.630862\n",
    "- mean_test_auc_roc using Neural Network(RMSprop):0.629448"
   ]
  },
  {
   "cell_type": "code",
   "execution_count": 1,
   "metadata": {},
   "outputs": [],
   "source": [
    "# globally useful imports of standard libraries needed in this notebook\n",
    "import numpy as np\n",
    "import pandas as pd\n",
    "import matplotlib.pyplot as plt\n",
    "import os.path\n",
    "from datetime import datetime\n",
    "\n",
    "# specific libraries or classes needed for the work in this notebook\n",
    "#from sklearn.linear_model import LogisticRegression\n",
    "#from sklearn.linear_model import LogisticRegressionCV\n",
    "#from sklearn.svm import SVC\n",
    "#from sklearn.naive_bayes import GaussianNB\n",
    "#from sklearn.tree import DecisionTreeClassifier\n",
    "from sklearn.metrics import roc_auc_score\n",
    "from sklearn.model_selection import GroupKFold\n",
    "from sklearn.model_selection import LeaveOneGroupOut\n",
    "from sklearn.model_selection import GridSearchCV\n",
    "from sklearn.feature_selection import SelectKBest, f_classif, chi2, SelectFpr, f_regression, mutual_info_classif\n",
    "from sklearn.feature_selection import SelectFromModel\n",
    "from sklearn.feature_selection import RFE\n",
    "from sklearn.feature_selection import VarianceThreshold\n",
    "from sklearn.ensemble import ExtraTreesClassifier\n",
    "#from sklearn.pipeline import Pipeline\n",
    "# need to use Pipeline from imblearn to add in a downsample or upsample\n",
    "# to cross validation training\n",
    "from imblearn.pipeline import Pipeline\n",
    "\n",
    "# import project specific modules used in this notebook\n",
    "import sys\n",
    "sys.path.append('../src')\n",
    "import mindwandering.data\n",
    "import mindwandering.features\n",
    "import mindwandering.evaluate\n",
    "from mindwandering.data import FeatureScalerTransformer\n",
    "from mindwandering.data import WinsorizationOutlierTransformer\n",
    "from mindwandering.data import VIFThresholdTransformer\n",
    "from mindwandering.data import FeatureSelectionTransformer\n",
    "from mindwandering.data import ClassImbalanceTransformer\n",
    "from mindwandering.data import GridSearchProgressHack\n",
    "\n",
    "\n",
    "from sklearn.preprocessing import StandardScaler"
   ]
  },
  {
   "cell_type": "code",
   "execution_count": 2,
   "metadata": {},
   "outputs": [],
   "source": [
    "from tensorflow.keras.models import Sequential\n",
    "from tensorflow.keras.layers import Dense\n",
    "from tensorflow.keras.wrappers.scikit_learn import KerasClassifier\n",
    "from tensorflow.keras.layers import Input, Dense, Activation, Dropout, BatchNormalization,Flatten\n",
    "from tensorflow.keras import regularizers\n",
    "from tensorflow.keras.optimizers import SGD,Adam,RMSprop\n",
    "from tensorflow.keras.layers import Conv1D,GRU,TimeDistributed,MaxPooling1D,LSTM\n",
    "from tensorflow.keras.models import Model\n",
    "from tensorflow.keras.layers import AveragePooling1D,ZeroPadding1D"
   ]
  },
  {
   "cell_type": "code",
   "execution_count": 3,
   "metadata": {},
   "outputs": [],
   "source": [
    "# Load Data and Features\n",
    "df_features = mindwandering.data.get_df_features()\n",
    "mind_wandered_label = mindwandering.data.get_mind_wandered_label()\n",
    "participant_ids = mindwandering.data.get_participant_ids()"
   ]
  },
  {
   "cell_type": "markdown",
   "metadata": {},
   "source": [
    "# Standard Scaling"
   ]
  },
  {
   "cell_type": "code",
   "execution_count": 4,
   "metadata": {},
   "outputs": [],
   "source": [
    "from sklearn.preprocessing import StandardScaler\n",
    "scaler = StandardScaler()\n",
    "df_features=scaler.fit_transform(df_features)"
   ]
  },
  {
   "cell_type": "markdown",
   "metadata": {},
   "source": [
    "# Select k-best features"
   ]
  },
  {
   "cell_type": "code",
   "execution_count": 5,
   "metadata": {},
   "outputs": [],
   "source": [
    "#from sklearn.feature_selection import SelectKBest,f_classif\n",
    "#k=[12,15,18,21,24,31]\n",
    "df_features = SelectKBest(f_classif,k=12).fit_transform(df_features,mind_wandered_label)"
   ]
  },
  {
   "cell_type": "code",
   "execution_count": 6,
   "metadata": {},
   "outputs": [],
   "source": [
    "participant_ids=participant_ids[:2193]"
   ]
  },
  {
   "cell_type": "markdown",
   "metadata": {},
   "source": [
    "# Allknn undersampling"
   ]
  },
  {
   "cell_type": "code",
   "execution_count": 8,
   "metadata": {},
   "outputs": [],
   "source": [
    "from imblearn.under_sampling import AllKNN\n",
    "allknn = AllKNN()\n",
    "df_features, mind_wandered_label = allknn.fit_resample(df_features, mind_wandered_label)"
   ]
  },
  {
   "cell_type": "markdown",
   "metadata": {},
   "source": [
    "# SMOTEENN Oversampling"
   ]
  },
  {
   "cell_type": "code",
   "execution_count": 9,
   "metadata": {},
   "outputs": [
    {
     "data": {
      "text/plain": [
       "'from imblearn.combine import SMOTEENN\\nsme = SMOTEENN(random_state=42)\\ndf_features, mind_wandered_label = sme.fit_resample(df_features, mind_wandered_label)'"
      ]
     },
     "execution_count": 9,
     "metadata": {},
     "output_type": "execute_result"
    }
   ],
   "source": [
    "\"\"\"from imblearn.combine import SMOTEENN\n",
    "sme = SMOTEENN(random_state=42)\n",
    "df_features, mind_wandered_label = sme.fit_resample(df_features, mind_wandered_label)\"\"\""
   ]
  },
  {
   "cell_type": "code",
   "execution_count": 10,
   "metadata": {},
   "outputs": [
    {
     "data": {
      "text/plain": [
       "(2193,)"
      ]
     },
     "execution_count": 10,
     "metadata": {},
     "output_type": "execute_result"
    }
   ],
   "source": [
    "mind_wandered_label.shape"
   ]
  },
  {
   "cell_type": "markdown",
   "metadata": {},
   "source": [
    "# Data Reshape for conv1d"
   ]
  },
  {
   "cell_type": "code",
   "execution_count": 11,
   "metadata": {},
   "outputs": [
    {
     "data": {
      "text/plain": [
       "(2193, 12, 1)"
      ]
     },
     "execution_count": 11,
     "metadata": {},
     "output_type": "execute_result"
    }
   ],
   "source": [
    "#df_features = df_features.to_numpy()\n",
    "df_features=df_features.reshape((df_features.shape[0], df_features.shape[1], 1))\n",
    "df_features.shape"
   ]
  },
  {
   "cell_type": "markdown",
   "metadata": {},
   "source": [
    "# AUROC"
   ]
  },
  {
   "cell_type": "code",
   "execution_count": 12,
   "metadata": {},
   "outputs": [],
   "source": [
    "import tensorflow\n",
    "auc_roc = tensorflow.keras.metrics.AUC(name='auc_roc',num_thresholds=20000,curve='ROC')"
   ]
  },
  {
   "cell_type": "markdown",
   "metadata": {},
   "source": [
    "# Conv1d Model"
   ]
  },
  {
   "cell_type": "code",
   "execution_count": 13,
   "metadata": {},
   "outputs": [],
   "source": [
    "def create_model(units=16):\n",
    "    model = Sequential([\n",
    "    GRU(units, recurrent_dropout=0.1,return_sequences=True,activation='tanh',input_shape=(df_features.shape[1], 1)),\n",
    "    GRU(units,recurrent_dropout=0.1),\n",
    "    #ZeroPadding1D(padding=1),\n",
    "    #Flatten(),\n",
    "    Dense(32, activation='relu'),\n",
    "    Dense(1, activation='swish'),\n",
    "    Activation('sigmoid')])\n",
    "    optimizer=SGD(lr=0.001)\n",
    "    model.compile(loss='binary_crossentropy',\n",
    "              optimizer=optimizer,\n",
    "              metrics=['accuracy', auc_roc])\n",
    "    return model"
   ]
  },
  {
   "cell_type": "code",
   "execution_count": 15,
   "metadata": {},
   "outputs": [],
   "source": [
    "# Wrap Keras model so it can be used by scikit-learn\n",
    "#kears_estimator = KerasClassifier(build_fn=create_model,epochs=100, batch_size=32, verbose=1)\n",
    "kears_estimator = KerasClassifier(build_fn=create_model,epochs=50, batch_size=32, verbose=1)\n",
    "#kears_estimator = KerasClassifier(build_fn=create_model, verbose=1)"
   ]
  },
  {
   "cell_type": "code",
   "execution_count": 16,
   "metadata": {},
   "outputs": [
    {
     "name": "stdout",
     "output_type": "stream",
     "text": [
      "Fitting 5 folds for each of 1 candidates, totalling 5 fits\n",
      "Epoch 1/10\n",
      "55/55 [==============================] - 3s 13ms/step - loss: 0.6896 - accuracy: 0.5380 - auc_roc: 0.6557\n",
      "Epoch 2/10\n",
      "55/55 [==============================] - 1s 12ms/step - loss: 0.6899 - accuracy: 0.5084 - auc_roc: 0.6745\n",
      "Epoch 3/10\n",
      "55/55 [==============================] - 1s 12ms/step - loss: 0.6891 - accuracy: 0.5250 - auc_roc: 0.6735\n",
      "Epoch 4/10\n",
      "55/55 [==============================] - 1s 12ms/step - loss: 0.6901 - accuracy: 0.5111 - auc_roc: 0.6456\n",
      "Epoch 5/10\n",
      "55/55 [==============================] - 1s 12ms/step - loss: 0.6894 - accuracy: 0.5223 - auc_roc: 0.6719\n",
      "Epoch 6/10\n",
      "55/55 [==============================] - 1s 12ms/step - loss: 0.6896 - accuracy: 0.5163 - auc_roc: 0.6825\n",
      "Epoch 7/10\n",
      "55/55 [==============================] - 1s 13ms/step - loss: 0.6896 - accuracy: 0.5174 - auc_roc: 0.6742\n",
      "Epoch 8/10\n",
      "55/55 [==============================] - 1s 13ms/step - loss: 0.6894 - accuracy: 0.5079 - auc_roc: 0.6980\n",
      "Epoch 9/10\n",
      "55/55 [==============================] - 1s 13ms/step - loss: 0.6898 - accuracy: 0.5092 - auc_roc: 0.6687\n",
      "Epoch 10/10\n",
      "55/55 [==============================] - 1s 13ms/step - loss: 0.6893 - accuracy: 0.5184 - auc_roc: 0.6720\n"
     ]
    },
    {
     "name": "stderr",
     "output_type": "stream",
     "text": [
      "/Users/subrotosingha/opt/anaconda3/lib/python3.8/site-packages/tensorflow/python/keras/engine/sequential.py:425: UserWarning: `model.predict_proba()` is deprecated and will be removed after 2021-01-01. Please use `model.predict()` instead.\n",
      "  warnings.warn('`model.predict_proba()` is deprecated and '\n"
     ]
    },
    {
     "name": "stdout",
     "output_type": "stream",
     "text": [
      "14/14 [==============================] - 0s 3ms/step\n",
      "14/14 [==============================] - 0s 2ms/step\n"
     ]
    },
    {
     "name": "stderr",
     "output_type": "stream",
     "text": [
      "/Users/subrotosingha/opt/anaconda3/lib/python3.8/site-packages/tensorflow/python/keras/engine/sequential.py:450: UserWarning: `model.predict_classes()` is deprecated and will be removed after 2021-01-01. Please use instead:* `np.argmax(model.predict(x), axis=-1)`,   if your model does multi-class classification   (e.g. if it uses a `softmax` last-layer activation).* `(model.predict(x) > 0.5).astype(\"int32\")`,   if your model does binary classification   (e.g. if it uses a `sigmoid` last-layer activation).\n",
      "  warnings.warn('`model.predict_classes()` is deprecated and '\n"
     ]
    },
    {
     "name": "stdout",
     "output_type": "stream",
     "text": [
      "Epoch 1/10\n",
      "55/55 [==============================] - 3s 13ms/step - loss: 0.6935 - accuracy: 0.5106 - auc_roc: 0.6282\n",
      "Epoch 2/10\n",
      "55/55 [==============================] - 1s 12ms/step - loss: 0.6932 - accuracy: 0.5268 - auc_roc: 0.5225\n",
      "Epoch 3/10\n",
      "55/55 [==============================] - 1s 12ms/step - loss: 0.6931 - accuracy: 0.5279 - auc_roc: 0.5256\n",
      "Epoch 4/10\n",
      "55/55 [==============================] - 1s 12ms/step - loss: 0.6934 - accuracy: 0.5157 - auc_roc: 0.5163\n",
      "Epoch 5/10\n",
      "55/55 [==============================] - 1s 12ms/step - loss: 0.6933 - accuracy: 0.5195 - auc_roc: 0.5040\n",
      "Epoch 6/10\n",
      "55/55 [==============================] - 1s 13ms/step - loss: 0.6929 - accuracy: 0.5340 - auc_roc: 0.5236\n",
      "Epoch 7/10\n",
      "55/55 [==============================] - 1s 13ms/step - loss: 0.6929 - accuracy: 0.5289 - auc_roc: 0.5294\n",
      "Epoch 8/10\n",
      "55/55 [==============================] - 1s 13ms/step - loss: 0.6925 - accuracy: 0.5466 - auc_roc: 0.5416\n",
      "Epoch 9/10\n",
      "55/55 [==============================] - 1s 13ms/step - loss: 0.6921 - accuracy: 0.5478 - auc_roc: 0.5491\n",
      "Epoch 10/10\n",
      "55/55 [==============================] - 1s 14ms/step - loss: 0.6927 - accuracy: 0.5422 - auc_roc: 0.5270\n"
     ]
    },
    {
     "name": "stderr",
     "output_type": "stream",
     "text": [
      "/Users/subrotosingha/opt/anaconda3/lib/python3.8/site-packages/tensorflow/python/keras/engine/sequential.py:425: UserWarning: `model.predict_proba()` is deprecated and will be removed after 2021-01-01. Please use `model.predict()` instead.\n",
      "  warnings.warn('`model.predict_proba()` is deprecated and '\n"
     ]
    },
    {
     "name": "stdout",
     "output_type": "stream",
     "text": [
      "14/14 [==============================] - 0s 2ms/step\n",
      "14/14 [==============================] - 0s 2ms/step\n"
     ]
    },
    {
     "name": "stderr",
     "output_type": "stream",
     "text": [
      "/Users/subrotosingha/opt/anaconda3/lib/python3.8/site-packages/tensorflow/python/keras/engine/sequential.py:450: UserWarning: `model.predict_classes()` is deprecated and will be removed after 2021-01-01. Please use instead:* `np.argmax(model.predict(x), axis=-1)`,   if your model does multi-class classification   (e.g. if it uses a `softmax` last-layer activation).* `(model.predict(x) > 0.5).astype(\"int32\")`,   if your model does binary classification   (e.g. if it uses a `sigmoid` last-layer activation).\n",
      "  warnings.warn('`model.predict_classes()` is deprecated and '\n"
     ]
    },
    {
     "name": "stdout",
     "output_type": "stream",
     "text": [
      "Epoch 1/10\n",
      "55/55 [==============================] - 4s 13ms/step - loss: 0.6929 - accuracy: 0.5543 - auc_roc: 0.5437\n",
      "Epoch 2/10\n",
      "55/55 [==============================] - 1s 14ms/step - loss: 0.6927 - accuracy: 0.5553 - auc_roc: 0.5878\n",
      "Epoch 3/10\n",
      "55/55 [==============================] - 1s 12ms/step - loss: 0.6928 - accuracy: 0.5618 - auc_roc: 0.5843\n",
      "Epoch 4/10\n",
      "55/55 [==============================] - 1s 13ms/step - loss: 0.6926 - accuracy: 0.5668 - auc_roc: 0.5952\n",
      "Epoch 5/10\n",
      "55/55 [==============================] - 1s 12ms/step - loss: 0.6926 - accuracy: 0.5560 - auc_roc: 0.5864\n",
      "Epoch 6/10\n",
      "55/55 [==============================] - 1s 13ms/step - loss: 0.6924 - accuracy: 0.5584 - auc_roc: 0.6097\n",
      "Epoch 7/10\n",
      "55/55 [==============================] - 1s 12ms/step - loss: 0.6923 - accuracy: 0.5618 - auc_roc: 0.6019\n",
      "Epoch 8/10\n",
      "55/55 [==============================] - 1s 12ms/step - loss: 0.6923 - accuracy: 0.5429 - auc_roc: 0.6310\n",
      "Epoch 9/10\n",
      "55/55 [==============================] - 1s 14ms/step - loss: 0.6921 - accuracy: 0.5464 - auc_roc: 0.6209\n",
      "Epoch 10/10\n",
      "55/55 [==============================] - 1s 12ms/step - loss: 0.6924 - accuracy: 0.5299 - auc_roc: 0.6094\n"
     ]
    },
    {
     "name": "stderr",
     "output_type": "stream",
     "text": [
      "/Users/subrotosingha/opt/anaconda3/lib/python3.8/site-packages/tensorflow/python/keras/engine/sequential.py:425: UserWarning: `model.predict_proba()` is deprecated and will be removed after 2021-01-01. Please use `model.predict()` instead.\n",
      "  warnings.warn('`model.predict_proba()` is deprecated and '\n"
     ]
    },
    {
     "name": "stdout",
     "output_type": "stream",
     "text": [
      "14/14 [==============================] - 0s 3ms/step\n",
      "14/14 [==============================] - 0s 3ms/step\n"
     ]
    },
    {
     "name": "stderr",
     "output_type": "stream",
     "text": [
      "/Users/subrotosingha/opt/anaconda3/lib/python3.8/site-packages/tensorflow/python/keras/engine/sequential.py:450: UserWarning: `model.predict_classes()` is deprecated and will be removed after 2021-01-01. Please use instead:* `np.argmax(model.predict(x), axis=-1)`,   if your model does multi-class classification   (e.g. if it uses a `softmax` last-layer activation).* `(model.predict(x) > 0.5).astype(\"int32\")`,   if your model does binary classification   (e.g. if it uses a `sigmoid` last-layer activation).\n",
      "  warnings.warn('`model.predict_classes()` is deprecated and '\n"
     ]
    },
    {
     "name": "stdout",
     "output_type": "stream",
     "text": [
      "Epoch 1/10\n",
      "55/55 [==============================] - 3s 13ms/step - loss: 0.6931 - accuracy: 0.5350 - auc_roc: 0.5831\n",
      "Epoch 2/10\n",
      "55/55 [==============================] - 1s 13ms/step - loss: 0.6931 - accuracy: 0.5171 - auc_roc: 0.5143\n",
      "Epoch 3/10\n",
      "55/55 [==============================] - 1s 12ms/step - loss: 0.6932 - accuracy: 0.5188 - auc_roc: 0.4944\n",
      "Epoch 4/10\n",
      "55/55 [==============================] - 1s 13ms/step - loss: 0.6931 - accuracy: 0.5199 - auc_roc: 0.5072\n",
      "Epoch 5/10\n",
      "55/55 [==============================] - 1s 14ms/step - loss: 0.6932 - accuracy: 0.5135 - auc_roc: 0.4877\n",
      "Epoch 6/10\n",
      "55/55 [==============================] - 1s 13ms/step - loss: 0.6931 - accuracy: 0.5215 - auc_roc: 0.4934\n",
      "Epoch 7/10\n",
      "55/55 [==============================] - 1s 12ms/step - loss: 0.6931 - accuracy: 0.5374 - auc_roc: 0.5036\n",
      "Epoch 8/10\n",
      "55/55 [==============================] - 1s 13ms/step - loss: 0.6929 - accuracy: 0.5462 - auc_roc: 0.5237\n",
      "Epoch 9/10\n",
      "55/55 [==============================] - 1s 12ms/step - loss: 0.6929 - accuracy: 0.5536 - auc_roc: 0.5234\n",
      "Epoch 10/10\n",
      "55/55 [==============================] - 1s 12ms/step - loss: 0.6928 - accuracy: 0.5585 - auc_roc: 0.5322\n"
     ]
    },
    {
     "name": "stderr",
     "output_type": "stream",
     "text": [
      "/Users/subrotosingha/opt/anaconda3/lib/python3.8/site-packages/tensorflow/python/keras/engine/sequential.py:425: UserWarning: `model.predict_proba()` is deprecated and will be removed after 2021-01-01. Please use `model.predict()` instead.\n",
      "  warnings.warn('`model.predict_proba()` is deprecated and '\n"
     ]
    },
    {
     "name": "stdout",
     "output_type": "stream",
     "text": [
      "14/14 [==============================] - 0s 2ms/step\n",
      "14/14 [==============================] - 0s 2ms/step\n"
     ]
    },
    {
     "name": "stderr",
     "output_type": "stream",
     "text": [
      "/Users/subrotosingha/opt/anaconda3/lib/python3.8/site-packages/tensorflow/python/keras/engine/sequential.py:450: UserWarning: `model.predict_classes()` is deprecated and will be removed after 2021-01-01. Please use instead:* `np.argmax(model.predict(x), axis=-1)`,   if your model does multi-class classification   (e.g. if it uses a `softmax` last-layer activation).* `(model.predict(x) > 0.5).astype(\"int32\")`,   if your model does binary classification   (e.g. if it uses a `sigmoid` last-layer activation).\n",
      "  warnings.warn('`model.predict_classes()` is deprecated and '\n"
     ]
    },
    {
     "name": "stdout",
     "output_type": "stream",
     "text": [
      "Epoch 1/10\n",
      "55/55 [==============================] - 4s 13ms/step - loss: 0.6942 - accuracy: 0.4802 - auc_roc: 0.4800\n",
      "Epoch 2/10\n",
      "55/55 [==============================] - 1s 12ms/step - loss: 0.6938 - accuracy: 0.5147 - auc_roc: 0.4374\n",
      "Epoch 3/10\n",
      "55/55 [==============================] - 1s 13ms/step - loss: 0.6939 - accuracy: 0.4845 - auc_roc: 0.4311\n",
      "Epoch 4/10\n",
      "55/55 [==============================] - 1s 12ms/step - loss: 0.6937 - accuracy: 0.4659 - auc_roc: 0.4397\n",
      "Epoch 5/10\n",
      "55/55 [==============================] - 1s 13ms/step - loss: 0.6938 - accuracy: 0.4766 - auc_roc: 0.4481\n",
      "Epoch 6/10\n",
      "55/55 [==============================] - 1s 13ms/step - loss: 0.6933 - accuracy: 0.4788 - auc_roc: 0.4714\n",
      "Epoch 7/10\n",
      "55/55 [==============================] - 1s 12ms/step - loss: 0.6931 - accuracy: 0.4871 - auc_roc: 0.4892\n",
      "Epoch 8/10\n",
      "55/55 [==============================] - 1s 12ms/step - loss: 0.6932 - accuracy: 0.4805 - auc_roc: 0.4983\n",
      "Epoch 9/10\n",
      "55/55 [==============================] - 1s 14ms/step - loss: 0.6927 - accuracy: 0.4956 - auc_roc: 0.5179\n",
      "Epoch 10/10\n",
      "55/55 [==============================] - 1s 14ms/step - loss: 0.6926 - accuracy: 0.4886 - auc_roc: 0.5159\n"
     ]
    },
    {
     "name": "stderr",
     "output_type": "stream",
     "text": [
      "/Users/subrotosingha/opt/anaconda3/lib/python3.8/site-packages/tensorflow/python/keras/engine/sequential.py:425: UserWarning: `model.predict_proba()` is deprecated and will be removed after 2021-01-01. Please use `model.predict()` instead.\n",
      "  warnings.warn('`model.predict_proba()` is deprecated and '\n"
     ]
    },
    {
     "name": "stdout",
     "output_type": "stream",
     "text": [
      "14/14 [==============================] - 0s 3ms/step\n",
      "14/14 [==============================] - 0s 2ms/step\n"
     ]
    },
    {
     "name": "stderr",
     "output_type": "stream",
     "text": [
      "/Users/subrotosingha/opt/anaconda3/lib/python3.8/site-packages/tensorflow/python/keras/engine/sequential.py:450: UserWarning: `model.predict_classes()` is deprecated and will be removed after 2021-01-01. Please use instead:* `np.argmax(model.predict(x), axis=-1)`,   if your model does multi-class classification   (e.g. if it uses a `softmax` last-layer activation).* `(model.predict(x) > 0.5).astype(\"int32\")`,   if your model does binary classification   (e.g. if it uses a `sigmoid` last-layer activation).\n",
      "  warnings.warn('`model.predict_classes()` is deprecated and '\n"
     ]
    },
    {
     "name": "stdout",
     "output_type": "stream",
     "text": [
      "Epoch 1/10\n",
      "69/69 [==============================] - 4s 13ms/step - loss: 0.6939 - accuracy: 0.4633 - auc_roc: 0.5047\n",
      "Epoch 2/10\n",
      "69/69 [==============================] - 1s 12ms/step - loss: 0.6940 - accuracy: 0.4457 - auc_roc: 0.4245\n",
      "Epoch 3/10\n",
      "69/69 [==============================] - 1s 11ms/step - loss: 0.6939 - accuracy: 0.4625 - auc_roc: 0.4275\n",
      "Epoch 4/10\n",
      "69/69 [==============================] - 1s 13ms/step - loss: 0.6936 - accuracy: 0.4749 - auc_roc: 0.4510\n",
      "Epoch 5/10\n",
      "69/69 [==============================] - 1s 13ms/step - loss: 0.6937 - accuracy: 0.4750 - auc_roc: 0.4516\n",
      "Epoch 6/10\n",
      "69/69 [==============================] - 1s 13ms/step - loss: 0.6936 - accuracy: 0.4930 - auc_roc: 0.4619\n",
      "Epoch 7/10\n",
      "69/69 [==============================] - 1s 12ms/step - loss: 0.6933 - accuracy: 0.4996 - auc_roc: 0.4867\n",
      "Epoch 8/10\n",
      "69/69 [==============================] - 1s 13ms/step - loss: 0.6933 - accuracy: 0.4815 - auc_roc: 0.4746\n",
      "Epoch 9/10\n",
      "69/69 [==============================] - 1s 13ms/step - loss: 0.6934 - accuracy: 0.5022 - auc_roc: 0.4948\n",
      "Epoch 10/10\n",
      "69/69 [==============================] - 1s 13ms/step - loss: 0.6931 - accuracy: 0.5201 - auc_roc: 0.5195\n"
     ]
    }
   ],
   "source": [
    "\n",
    "# Empty dataframe to gather grid search results into 1 place\n",
    "best_estimator = None\n",
    "best_score = 0.0\n",
    "best_params = {}\n",
    "best_index = 0\n",
    "df_result = None\n",
    "\n",
    "\n",
    "parameters = {\n",
    "        #'scaling__type_of_scaling': ['standard'],\n",
    "        #'outlier__outlier_threshold': [0.0, 3.0],\n",
    "        #'features__k': [12,15],\n",
    "        #'balance__balancer_type': ['random-undersampler', 'allknn', 'nearmiss', 'instance-hardness-threshold'],\n",
    "        #'balance__balancer_type': ['allknn', 'condensed-nn', 'neighbourhood-cleaning', 'one-sided-selection'],\n",
    "        #'balance__balancer_type': ['allknn', 'one-sided-selection'],\n",
    "        #'balance__balancer_type': ['allknn', 'smote-enn'],\n",
    "        #'model__var_smoothing': [1e-6,1e-7,1e-8,1e-9,1e-10,1e-11,1e-12],\n",
    "        'model__batch_size': [32, 48],#usually multiple of 8\n",
    "        'model__epochs':[50,60],\n",
    "        'model__units':[8,16,32,64],\n",
    "        #'model__kernel_size':[3,5,7],\n",
    "        #'model__batch_size': [60],\n",
    "        #'model__epochs':[10],\n",
    "        #'model__optimizer' : ['RMSprop', 'Adagrad', 'Adadelta','Adam']\n",
    "    }\n",
    "\n",
    "# Estimator Pipeline\n",
    "pipeline = Pipeline(\n",
    "      [\n",
    "        #('progress', GridSearchProgressHack(verbose=False)),\n",
    "        #('scaling',  FeatureScalerTransformer()),\n",
    "        #('outlier',  WinsorizationOutlierTransformer()),\n",
    "        #('features', SelectKBest()),\n",
    "        #('features', SelectFromModel(estimator=LogisticRegression(solver='liblinear', penalty='l1', C=0.1), threshold=-np.inf)),\n",
    "        #('balance',  ClassImbalanceTransformer()),\n",
    "        ('model',    kears_estimator)\n",
    "      ]\n",
    "    )\n",
    "    \n",
    "# Cross Validation Splitter\n",
    "cv_group_splitter = GroupKFold(n_splits=5)\n",
    "    #cv_group_splitter = LeaveOneGroupOut()\n",
    "\n",
    "    # perform the grid search for this vif selection\n",
    "    # set up the search\n",
    "search = GridSearchCV(\n",
    "        estimator = pipeline,\n",
    "        param_grid = parameters,\n",
    "        scoring = ['roc_auc','accuracy'],\n",
    "        cv = cv_group_splitter,\n",
    "        #cv = 5,\n",
    "        refit = 'roc_auc',\n",
    "        verbose = 1)\n",
    "\n",
    "search.fit(df_features, mind_wandered_label, groups=participant_ids)\n",
    "#search.fit(df_features, mind_wandered_label)\n",
    "\n",
    "df = pd.DataFrame(data=search.cv_results_)\n",
    "    \n",
    "    \n",
    "if best_estimator is None:\n",
    "    df_result = df\n",
    "    best_estimator = search.best_estimator_\n",
    "    best_score = search.best_score_\n",
    "    best_params = search.best_params_\n",
    "    best_index = search.best_index_\n",
    "else:\n",
    "    df_result = df_result.append(df, ignore_index=True)\n",
    "    if search.best_score_ > best_score:\n",
    "        best_estimator = search.best_estimator_\n",
    "        best_score = search.best_score_\n",
    "        best_params = search.best_params_\n",
    "        best_index = search.best_index_  # todo this is only the index of this search"
   ]
  },
  {
   "cell_type": "code",
   "execution_count": 17,
   "metadata": {},
   "outputs": [
    {
     "data": {
      "text/html": [
       "<div>\n",
       "<style scoped>\n",
       "    .dataframe tbody tr th:only-of-type {\n",
       "        vertical-align: middle;\n",
       "    }\n",
       "\n",
       "    .dataframe tbody tr th {\n",
       "        vertical-align: top;\n",
       "    }\n",
       "\n",
       "    .dataframe thead th {\n",
       "        text-align: right;\n",
       "    }\n",
       "</style>\n",
       "<table border=\"1\" class=\"dataframe\">\n",
       "  <thead>\n",
       "    <tr style=\"text-align: right;\">\n",
       "      <th></th>\n",
       "      <th>mean_test_roc_auc</th>\n",
       "      <th>mean_test_accuracy</th>\n",
       "      <th>param_model__epochs</th>\n",
       "    </tr>\n",
       "  </thead>\n",
       "  <tbody>\n",
       "    <tr>\n",
       "      <th>1</th>\n",
       "      <td>0.56984</td>\n",
       "      <td>0.470082</td>\n",
       "      <td>10</td>\n",
       "    </tr>\n",
       "  </tbody>\n",
       "</table>\n",
       "</div>"
      ],
      "text/plain": [
       "   mean_test_roc_auc  mean_test_accuracy param_model__epochs\n",
       "1            0.56984            0.470082                  10"
      ]
     },
     "execution_count": 17,
     "metadata": {},
     "output_type": "execute_result"
    }
   ],
   "source": [
    "# top 20 performers by the test_roc_auc score\n",
    "#,'param_model__max_features'\n",
    "pd.set_option('display.max_columns', None)\n",
    "pd.set_option('display.max_rows', None)\n",
    "#res_cols = ['mean_test_roc_auc', 'mean_test_accuracy', 'param_balance__balancer_type', 'param_features__k', \n",
    "#            'param_features__score_func', 'param_model__C', 'param_model__solver', \n",
    "#            'param_outlier__outlier_threshold', 'param__vif_score_threshold']\n",
    "#res_cols = ['mean_test_roc_auc','mean_test_accuracy', 'param_balance__balancer_type', 'param_model__batch_size','param_model__epochs',\n",
    "            #'param_outlier__outlier_threshold']\n",
    "#res_cols = ['mean_test_roc_auc','mean_test_accuracy','model__batch_size','param_model__epochs','model__filters','model__kernel_size']\n",
    "res_cols = ['mean_test_roc_auc','mean_test_accuracy','param_model__epochs','param_model__batch_size','param_model__units']\n",
    "#res_cols = ['mean_test_roc_auc','mean_test_accuracy', 'param_balance__balancer_type','param_model__optimizer',\n",
    "            #'param_outlier__outlier_threshold']\n",
    "df_sorted = df_result[res_cols].reset_index(drop=True).sort_values('mean_test_roc_auc', axis=0, ascending=False)\n",
    "df_sorted.index = pd.RangeIndex(1, len(df_sorted.index)+1)\n",
    "df_sorted"
   ]
  },
  {
   "cell_type": "code",
   "execution_count": 18,
   "metadata": {},
   "outputs": [
    {
     "name": "stdout",
     "output_type": "stream",
     "text": [
      "{'model__epochs': 10}\n"
     ]
    }
   ],
   "source": [
    "# the average roc-auc and accuracy scores of just completed search.\n",
    "# these are the averages of each model over the convolution folds.\n",
    "#print(df_result['mean_test_roc_auc'])\n",
    "#print(df_result['mean_test_accuracy'])\n",
    "print(best_params)"
   ]
  },
  {
   "cell_type": "code",
   "execution_count": 19,
   "metadata": {},
   "outputs": [
    {
     "name": "stderr",
     "output_type": "stream",
     "text": [
      "/Users/subrotosingha/opt/anaconda3/lib/python3.8/site-packages/tensorflow/python/keras/engine/sequential.py:450: UserWarning: `model.predict_classes()` is deprecated and will be removed after 2021-01-01. Please use instead:* `np.argmax(model.predict(x), axis=-1)`,   if your model does multi-class classification   (e.g. if it uses a `softmax` last-layer activation).* `(model.predict(x) > 0.5).astype(\"int32\")`,   if your model does binary classification   (e.g. if it uses a `sigmoid` last-layer activation).\n",
      "  warnings.warn('`model.predict_classes()` is deprecated and '\n"
     ]
    },
    {
     "name": "stdout",
     "output_type": "stream",
     "text": [
      "69/69 [==============================] - 1s 2ms/step\n",
      "69/69 [==============================] - 0s 2ms/step\n",
      "Accuracy score:         0.5180118559051528\n",
      "Recall (TPR) score:     0.42857142857142855\n",
      "Precision score:        0.5311804008908686\n",
      "AUC-ROC score:          0.5193783068783069\n",
      "\n",
      "True positives:   477\n",
      "True negatives:   659\n",
      "False positives:  421\n",
      "False negatives:  636\n",
      "True Positive Rate (recall):  0.42857142857142855\n",
      "False Positive Rate:          0.38981481481481484\n",
      "Specificity:                  0.6101851851851852\n",
      "\n",
      "[[659 421]\n",
      " [636 477]]\n"
     ]
    },
    {
     "name": "stderr",
     "output_type": "stream",
     "text": [
      "/Users/subrotosingha/opt/anaconda3/lib/python3.8/site-packages/tensorflow/python/keras/engine/sequential.py:425: UserWarning: `model.predict_proba()` is deprecated and will be removed after 2021-01-01. Please use `model.predict()` instead.\n",
      "  warnings.warn('`model.predict_proba()` is deprecated and '\n"
     ]
    },
    {
     "data": {
      "image/png": "[encoded data removed]",
      "text/plain": [
       "<Figure size 432x288 with 2 Axes>"
      ]
     },
     "metadata": {
      "needs_background": "light"
     },
     "output_type": "display_data"
    },
    {
     "data": {
      "image/png": "[encoded data removed]",
      "text/plain": [
       "<Figure size 864x576 with 1 Axes>"
      ]
     },
     "metadata": {
      "needs_background": "light"
     },
     "output_type": "display_data"
    },
    {
     "data": {
      "image/png": "[encoded data removed]",
      "text/plain": [
       "<Figure size 864x576 with 1 Axes>"
      ]
     },
     "metadata": {
      "needs_background": "light"
     },
     "output_type": "display_data"
    }
   ],
   "source": [
    "# display results for the best estimator we found\n",
    "predictions = best_estimator.predict(df_features)\n",
    "probabilities = best_estimator.predict_proba(df_features)[:,1]\n",
    "mindwandering.evaluate.evaluate_model_results(mind_wandered_label, predictions, probabilities)"
   ]
  },
  {
   "cell_type": "code",
   "execution_count": 20,
   "metadata": {},
   "outputs": [
    {
     "data": {
      "text/plain": [
       "\"now = datetime.now()\\ndate_time = now.strftime('%Y%m%d-%H%M')\\nresult_file_basename = 'replication-07-Neural-Network-using-SGD' + date_time\\nprint(result_file_basename)\""
      ]
     },
     "execution_count": 20,
     "metadata": {},
     "output_type": "execute_result"
    }
   ],
   "source": [
    "# save the results and preliminary figures in the following cells\n",
    "\n",
    "# create base save file name for this file, use datetime to keep a unique file name\n",
    "now = datetime.now()\n",
    "date_time = now.strftime('%Y%m%d-%H%M')\n",
    "result_file_basename = 'replication-07-Neural-Network-using-GRU-undersampling' + date_time\n",
    "print(result_file_basename)"
   ]
  },
  {
   "cell_type": "code",
   "execution_count": 21,
   "metadata": {},
   "outputs": [
    {
     "ename": "NameError",
     "evalue": "name 'result_file_basename' is not defined",
     "output_type": "error",
     "traceback": [
      "\u001b[0;31m---------------------------------------------------------------------------\u001b[0m",
      "\u001b[0;31mNameError\u001b[0m                                 Traceback (most recent call last)",
      "\u001b[0;32m<ipython-input-21-f7b514368911>\u001b[0m in \u001b[0;36m<module>\u001b[0;34m\u001b[0m\n\u001b[1;32m     10\u001b[0m \u001b[0mplt\u001b[0m\u001b[0;34m.\u001b[0m\u001b[0mxlabel\u001b[0m\u001b[0;34m(\u001b[0m\u001b[0;34m'Area under the receiver operating characteristic (AUC-ROC)'\u001b[0m\u001b[0;34m)\u001b[0m\u001b[0;34m;\u001b[0m\u001b[0;34m\u001b[0m\u001b[0;34m\u001b[0m\u001b[0m\n\u001b[1;32m     11\u001b[0m \u001b[0mplt\u001b[0m\u001b[0;34m.\u001b[0m\u001b[0mylabel\u001b[0m\u001b[0;34m(\u001b[0m\u001b[0;34m'Number of models'\u001b[0m\u001b[0;34m)\u001b[0m\u001b[0;34m;\u001b[0m\u001b[0;34m\u001b[0m\u001b[0;34m\u001b[0m\u001b[0m\n\u001b[0;32m---> 12\u001b[0;31m \u001b[0mplt\u001b[0m\u001b[0;34m.\u001b[0m\u001b[0mtitle\u001b[0m\u001b[0;34m(\u001b[0m\u001b[0;34m'Neural Network Replication using SGD: '\u001b[0m \u001b[0;34m+\u001b[0m \u001b[0mresult_file_basename\u001b[0m\u001b[0;34m)\u001b[0m\u001b[0;34m;\u001b[0m\u001b[0;34m\u001b[0m\u001b[0;34m\u001b[0m\u001b[0m\n\u001b[0m\u001b[1;32m     13\u001b[0m \u001b[0;34m\u001b[0m\u001b[0m\n\u001b[1;32m     14\u001b[0m \"\"\"result_dir = '../figures'\n",
      "\u001b[0;31mNameError\u001b[0m: name 'result_file_basename' is not defined"
     ]
    },
    {
     "data": {
      "image/png": "[encoded data removed]",
      "text/plain": [
       "<Figure size 864x576 with 1 Axes>"
      ]
     },
     "metadata": {
      "needs_background": "light"
     },
     "output_type": "display_data"
    }
   ],
   "source": [
    "# A quick histogram of this search auc-roc scores.  Basically the figure 1 from the paper.\n",
    "plt.figure(figsize=(12,8))\n",
    "\n",
    "#bins = np.linspace(0.605, 0.612, 8)\n",
    "plt.hist(df_result.mean_test_roc_auc, \n",
    "         bins=20,\n",
    "         color='lightblue',\n",
    "         rwidth=0.9);\n",
    "#plt.xlabel('Area under the receiver operating characteristic (AUC-ROC)');\n",
    "plt.xlabel('Area under the receiver operating characteristic (AUC-ROC)');\n",
    "plt.ylabel('Number of models');\n",
    "plt.title('Neural Network Replication using GRU for Undersampling Dataset: ' + result_file_basename);\n",
    "\n",
    "result_dir = '../figures'\n",
    "result_file_name = result_file_basename + '.eps'\n",
    "result_file_path = os.path.join(result_dir, result_file_name)\n",
    "plt.savefig(result_file_path)"
   ]
  },
  {
   "cell_type": "code",
   "execution_count": null,
   "metadata": {},
   "outputs": [],
   "source": []
  }
 ],
 "metadata": {
  "kernelspec": {
   "display_name": "Python 3",
   "language": "python",
   "name": "python3"
  },
  "language_info": {
   "codemirror_mode": {
    "name": "ipython",
    "version": 3
   },
   "file_extension": ".py",
   "mimetype": "text/x-python",
   "name": "python",
   "nbconvert_exporter": "python",
   "pygments_lexer": "ipython3",
   "version": "3.8.5"
  }
 },
 "nbformat": 4,
 "nbformat_minor": 4
}
